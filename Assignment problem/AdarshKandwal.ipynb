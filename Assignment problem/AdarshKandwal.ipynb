{
 "cells": [
  {
   "cell_type": "markdown",
   "metadata": {},
   "source": [
    "# Assignment Problem"
   ]
  },
  {
   "cell_type": "markdown",
   "metadata": {},
   "source": [
    "# Question No- 1"
   ]
  },
  {
   "cell_type": "code",
   "execution_count": 1,
   "metadata": {},
   "outputs": [],
   "source": [
    "from pulp import *\n",
    "import numpy as np\n",
    "import pandas as pd"
   ]
  },
  {
   "cell_type": "code",
   "execution_count": 39,
   "metadata": {},
   "outputs": [],
   "source": [
    "df=pd.read_csv('C:/Users/GS/Desktop/OR_Lab/AP_1.csv')"
   ]
  },
  {
   "cell_type": "code",
   "execution_count": 40,
   "metadata": {},
   "outputs": [
    {
     "data": {
      "text/html": [
       "<div>\n",
       "<style scoped>\n",
       "    .dataframe tbody tr th:only-of-type {\n",
       "        vertical-align: middle;\n",
       "    }\n",
       "\n",
       "    .dataframe tbody tr th {\n",
       "        vertical-align: top;\n",
       "    }\n",
       "\n",
       "    .dataframe thead th {\n",
       "        text-align: right;\n",
       "    }\n",
       "</style>\n",
       "<table border=\"1\" class=\"dataframe\">\n",
       "  <thead>\n",
       "    <tr style=\"text-align: right;\">\n",
       "      <th></th>\n",
       "      <th>A1</th>\n",
       "      <th>A2</th>\n",
       "      <th>A3</th>\n",
       "      <th>Resource</th>\n",
       "    </tr>\n",
       "  </thead>\n",
       "  <tbody>\n",
       "    <tr>\n",
       "      <th>0</th>\n",
       "      <td>120.0</td>\n",
       "      <td>100.0</td>\n",
       "      <td>80.0</td>\n",
       "      <td>1</td>\n",
       "    </tr>\n",
       "    <tr>\n",
       "      <th>1</th>\n",
       "      <td>80.0</td>\n",
       "      <td>90.0</td>\n",
       "      <td>90.0</td>\n",
       "      <td>1</td>\n",
       "    </tr>\n",
       "    <tr>\n",
       "      <th>2</th>\n",
       "      <td>110.0</td>\n",
       "      <td>140.0</td>\n",
       "      <td>140.0</td>\n",
       "      <td>1</td>\n",
       "    </tr>\n",
       "    <tr>\n",
       "      <th>3</th>\n",
       "      <td>NaN</td>\n",
       "      <td>NaN</td>\n",
       "      <td>NaN</td>\n",
       "      <td>1</td>\n",
       "    </tr>\n",
       "    <tr>\n",
       "      <th>4</th>\n",
       "      <td>NaN</td>\n",
       "      <td>NaN</td>\n",
       "      <td>NaN</td>\n",
       "      <td>1</td>\n",
       "    </tr>\n",
       "    <tr>\n",
       "      <th>5</th>\n",
       "      <td>NaN</td>\n",
       "      <td>NaN</td>\n",
       "      <td>NaN</td>\n",
       "      <td>1</td>\n",
       "    </tr>\n",
       "  </tbody>\n",
       "</table>\n",
       "</div>"
      ],
      "text/plain": [
       "      A1     A2     A3  Resource\n",
       "0  120.0  100.0   80.0         1\n",
       "1   80.0   90.0   90.0         1\n",
       "2  110.0  140.0  140.0         1\n",
       "3    NaN    NaN    NaN         1\n",
       "4    NaN    NaN    NaN         1\n",
       "5    NaN    NaN    NaN         1"
      ]
     },
     "execution_count": 40,
     "metadata": {},
     "output_type": "execute_result"
    }
   ],
   "source": [
    "df"
   ]
  },
  {
   "cell_type": "code",
   "execution_count": 41,
   "metadata": {},
   "outputs": [],
   "source": [
    "## Define Data\n",
    "\n",
    "nvar=3\n",
    "ncons=3\n",
    "cost=df.iloc[0:3,0:3].to_numpy()          \n",
    "resources=list(df['Resource'].iloc[0:7])"
   ]
  },
  {
   "cell_type": "code",
   "execution_count": 42,
   "metadata": {},
   "outputs": [],
   "source": [
    "# Define the model\n",
    "model1 = LpProblem(\"LPP1\",LpMinimize)\n",
    "\n",
    "# Define the decision variables\n",
    "x = {i: LpVariable(name=f\"x{i}\", lowBound=0, cat='Integer') for i in range(1, nvar+1)}\n",
    "y = {i: LpVariable(name=f\"y{i}\", lowBound=0, cat='Integer') for i in range(1, nvar+1)}\n",
    "z = {i: LpVariable(name=f\"z{i}\", lowBound=0, cat='Integer') for i in range(1, nvar+1)}\n",
    "\n",
    "# Set the objective \n",
    "model1+=lpSum(cost[0,i-1]*x[i] for i in range(1,nvar+1))+lpSum(cost[1,i-1]*y[i] for i in range(1,nvar+1))+lpSum(cost[2,i-1]*z[i] for i in range(1,nvar+1))"
   ]
  },
  {
   "cell_type": "code",
   "execution_count": 43,
   "metadata": {},
   "outputs": [],
   "source": [
    "# Add constraints\n",
    "\n",
    "model1 += lpSum(x[i] for i in range(1,nvar+1))==resources[0]\n",
    "model1 += lpSum(y[i] for i in range(1,nvar+1))==resources[1]\n",
    "model1 += lpSum(z[i] for i in range(1,nvar+1))==resources[2]\n",
    "for j in range(1,nvar+1):\n",
    "  model1 += lpSum(x[j]+y[j]+z[j])==1"
   ]
  },
  {
   "cell_type": "code",
   "execution_count": null,
   "metadata": {},
   "outputs": [],
   "source": []
  },
  {
   "cell_type": "code",
   "execution_count": 44,
   "metadata": {},
   "outputs": [
    {
     "name": "stdout",
     "output_type": "stream",
     "text": [
      "LPP1:\n",
      "MINIMIZE\n",
      "120.0*x1 + 100.0*x2 + 80.0*x3 + 80.0*y1 + 90.0*y2 + 90.0*y3 + 110.0*z1 + 140.0*z2 + 140.0*z3 + 0.0\n",
      "SUBJECT TO\n",
      "_C1: x1 + x2 + x3 = 1\n",
      "\n",
      "_C2: y1 + y2 + y3 = 1\n",
      "\n",
      "_C3: z1 + z2 + z3 = 1\n",
      "\n",
      "_C4: x1 + y1 + z1 = 1\n",
      "\n",
      "_C5: x2 + y2 + z2 = 1\n",
      "\n",
      "_C6: x3 + y3 + z3 = 1\n",
      "\n",
      "VARIABLES\n",
      "0 <= x1 Integer\n",
      "0 <= x2 Integer\n",
      "0 <= x3 Integer\n",
      "0 <= y1 Integer\n",
      "0 <= y2 Integer\n",
      "0 <= y3 Integer\n",
      "0 <= z1 Integer\n",
      "0 <= z2 Integer\n",
      "0 <= z3 Integer\n",
      "\n"
     ]
    }
   ],
   "source": [
    "print(model1)"
   ]
  },
  {
   "cell_type": "code",
   "execution_count": 45,
   "metadata": {},
   "outputs": [],
   "source": [
    "# Solve the optimization problem\n",
    "status = model1.solve()"
   ]
  },
  {
   "cell_type": "code",
   "execution_count": 46,
   "metadata": {},
   "outputs": [
    {
     "name": "stdout",
     "output_type": "stream",
     "text": [
      "##############Solution of Assignment Problem is ##################\n",
      "\n",
      "\n",
      "status: 1, Optimal\n",
      "objective: 280.0\n",
      "x1: 0.0\n",
      "x2: 0.0\n",
      "x3: 1.0\n",
      "y1: 0.0\n",
      "y2: 1.0\n",
      "y3: 0.0\n",
      "z1: 1.0\n",
      "z2: 0.0\n",
      "z3: 0.0\n"
     ]
    }
   ],
   "source": [
    "# Get the results\n",
    "print('##############Solution of Assignment Problem is ##################\\n\\n')\n",
    "print(f\"status: {model1.status}, {LpStatus[model1.status]}\")\n",
    "print(f\"objective: {round(model1.objective.value(),2)}\")\n",
    "\n",
    "for var in x.values():\n",
    "    print(f\"{var.name}: {var.value()}\")\n",
    "\n",
    "for var in y.values():\n",
    "    print(f\"{var.name}: {var.value()}\")\n",
    "\n",
    "for var in z.values():\n",
    "    print(f\"{var.name}: {var.value()}\")"
   ]
  },
  {
   "cell_type": "markdown",
   "metadata": {},
   "source": [
    "# Question No- 2"
   ]
  },
  {
   "cell_type": "code",
   "execution_count": 62,
   "metadata": {},
   "outputs": [],
   "source": [
    "df=pd.read_csv('C:/Users/GS/Desktop/OR_Lab/AP_2.csv')"
   ]
  },
  {
   "cell_type": "code",
   "execution_count": 63,
   "metadata": {},
   "outputs": [
    {
     "data": {
      "text/html": [
       "<div>\n",
       "<style scoped>\n",
       "    .dataframe tbody tr th:only-of-type {\n",
       "        vertical-align: middle;\n",
       "    }\n",
       "\n",
       "    .dataframe tbody tr th {\n",
       "        vertical-align: top;\n",
       "    }\n",
       "\n",
       "    .dataframe thead th {\n",
       "        text-align: right;\n",
       "    }\n",
       "</style>\n",
       "<table border=\"1\" class=\"dataframe\">\n",
       "  <thead>\n",
       "    <tr style=\"text-align: right;\">\n",
       "      <th></th>\n",
       "      <th>A1</th>\n",
       "      <th>A2</th>\n",
       "      <th>A3</th>\n",
       "      <th>A4</th>\n",
       "      <th>A5</th>\n",
       "    </tr>\n",
       "  </thead>\n",
       "  <tbody>\n",
       "    <tr>\n",
       "      <th>0</th>\n",
       "      <td>10</td>\n",
       "      <td>5</td>\n",
       "      <td>13</td>\n",
       "      <td>15</td>\n",
       "      <td>16</td>\n",
       "    </tr>\n",
       "    <tr>\n",
       "      <th>1</th>\n",
       "      <td>3</td>\n",
       "      <td>9</td>\n",
       "      <td>18</td>\n",
       "      <td>13</td>\n",
       "      <td>6</td>\n",
       "    </tr>\n",
       "    <tr>\n",
       "      <th>2</th>\n",
       "      <td>10</td>\n",
       "      <td>7</td>\n",
       "      <td>2</td>\n",
       "      <td>2</td>\n",
       "      <td>2</td>\n",
       "    </tr>\n",
       "    <tr>\n",
       "      <th>3</th>\n",
       "      <td>7</td>\n",
       "      <td>11</td>\n",
       "      <td>9</td>\n",
       "      <td>7</td>\n",
       "      <td>12</td>\n",
       "    </tr>\n",
       "    <tr>\n",
       "      <th>4</th>\n",
       "      <td>7</td>\n",
       "      <td>9</td>\n",
       "      <td>10</td>\n",
       "      <td>4</td>\n",
       "      <td>12</td>\n",
       "    </tr>\n",
       "  </tbody>\n",
       "</table>\n",
       "</div>"
      ],
      "text/plain": [
       "   A1  A2  A3  A4  A5\n",
       "0  10   5  13  15  16\n",
       "1   3   9  18  13   6\n",
       "2  10   7   2   2   2\n",
       "3   7  11   9   7  12\n",
       "4   7   9  10   4  12"
      ]
     },
     "execution_count": 63,
     "metadata": {},
     "output_type": "execute_result"
    }
   ],
   "source": [
    "df"
   ]
  },
  {
   "cell_type": "code",
   "execution_count": 64,
   "metadata": {},
   "outputs": [],
   "source": [
    "## Define Data\n",
    "\n",
    "nvar=5\n",
    "ncons=3\n",
    "cost=df.iloc[0:5,0:5].to_numpy() "
   ]
  },
  {
   "cell_type": "code",
   "execution_count": 65,
   "metadata": {},
   "outputs": [],
   "source": [
    "# Define the model\n",
    "model = LpProblem(\"LPP2\",LpMinimize)\n",
    "\n",
    "# Define the decision variables\n",
    "x = {i: LpVariable(name=f\"x{i}\", lowBound=0, upBound=1 ,cat='Integer') for i in range(1, nvar+1)}\n",
    "y = {i: LpVariable(name=f\"y{i}\", lowBound=0, upBound=1, cat='Integer') for i in range(1, nvar+1)}\n",
    "z = {i: LpVariable(name=f\"z{i}\", lowBound=0, upBound=1, cat='Integer') for i in range(1, nvar+1)}\n",
    "w = {i: LpVariable(name=f\"w{i}\", lowBound=0, upBound=1, cat='Integer') for i in range(1, nvar+1)}\n",
    "u = {i: LpVariable(name=f\"u{i}\", lowBound=0, upBound=1, cat='Integer') for i in range(1, nvar+1)}\n",
    "\n",
    "# Set the objective \n",
    "model+=lpSum(cost[0,i-1]*x[i] for i in range(1,nvar+1))+lpSum(cost[1,i-1]*y[i] for i in range(1,nvar+1))+lpSum(cost[2,i-1]*z[i] for i in range(1,nvar+1))+lpSum(cost[3,i-1]*w[i] for i in range(1,nvar+1))+lpSum(cost[4,i-1]*u[i] for i in range(1,nvar+1))\n",
    "\n",
    "# Add constraints\n",
    "model += lpSum(x[i] for i in range(1,nvar+1))==1  \n",
    "model += lpSum(y[i] for i in range(1,nvar+1))==1\n",
    "model += lpSum(z[i] for i in range(1,nvar+1))==1\n",
    "model += lpSum(w[i] for i in range(1,nvar+1))==1\n",
    "model += lpSum(u[i] for i in range(1,nvar+1))==1\n",
    "for j in range(1,nvar+1):\n",
    "  model += lpSum(x[j]+y[j]+z[j]+w[j]+u[j])==1"
   ]
  },
  {
   "cell_type": "code",
   "execution_count": 66,
   "metadata": {},
   "outputs": [
    {
     "name": "stdout",
     "output_type": "stream",
     "text": [
      "LPP2:\n",
      "MINIMIZE\n",
      "7*u1 + 9*u2 + 10*u3 + 4*u4 + 12*u5 + 7*w1 + 11*w2 + 9*w3 + 7*w4 + 12*w5 + 10*x1 + 5*x2 + 13*x3 + 15*x4 + 16*x5 + 3*y1 + 9*y2 + 18*y3 + 13*y4 + 6*y5 + 10*z1 + 7*z2 + 2*z3 + 2*z4 + 2*z5 + 0\n",
      "SUBJECT TO\n",
      "_C1: x1 + x2 + x3 + x4 + x5 = 1\n",
      "\n",
      "_C2: y1 + y2 + y3 + y4 + y5 = 1\n",
      "\n",
      "_C3: z1 + z2 + z3 + z4 + z5 = 1\n",
      "\n",
      "_C4: w1 + w2 + w3 + w4 + w5 = 1\n",
      "\n",
      "_C5: u1 + u2 + u3 + u4 + u5 = 1\n",
      "\n",
      "_C6: u1 + w1 + x1 + y1 + z1 = 1\n",
      "\n",
      "_C7: u2 + w2 + x2 + y2 + z2 = 1\n",
      "\n",
      "_C8: u3 + w3 + x3 + y3 + z3 = 1\n",
      "\n",
      "_C9: u4 + w4 + x4 + y4 + z4 = 1\n",
      "\n",
      "_C10: u5 + w5 + x5 + y5 + z5 = 1\n",
      "\n",
      "VARIABLES\n",
      "0 <= u1 <= 1 Integer\n",
      "0 <= u2 <= 1 Integer\n",
      "0 <= u3 <= 1 Integer\n",
      "0 <= u4 <= 1 Integer\n",
      "0 <= u5 <= 1 Integer\n",
      "0 <= w1 <= 1 Integer\n",
      "0 <= w2 <= 1 Integer\n",
      "0 <= w3 <= 1 Integer\n",
      "0 <= w4 <= 1 Integer\n",
      "0 <= w5 <= 1 Integer\n",
      "0 <= x1 <= 1 Integer\n",
      "0 <= x2 <= 1 Integer\n",
      "0 <= x3 <= 1 Integer\n",
      "0 <= x4 <= 1 Integer\n",
      "0 <= x5 <= 1 Integer\n",
      "0 <= y1 <= 1 Integer\n",
      "0 <= y2 <= 1 Integer\n",
      "0 <= y3 <= 1 Integer\n",
      "0 <= y4 <= 1 Integer\n",
      "0 <= y5 <= 1 Integer\n",
      "0 <= z1 <= 1 Integer\n",
      "0 <= z2 <= 1 Integer\n",
      "0 <= z3 <= 1 Integer\n",
      "0 <= z4 <= 1 Integer\n",
      "0 <= z5 <= 1 Integer\n",
      "\n"
     ]
    }
   ],
   "source": [
    "# Print Model\n",
    "print(model)"
   ]
  },
  {
   "cell_type": "code",
   "execution_count": 67,
   "metadata": {},
   "outputs": [],
   "source": [
    "# Solve the optimization problem\n",
    "status = model.solve()"
   ]
  },
  {
   "cell_type": "code",
   "execution_count": 69,
   "metadata": {},
   "outputs": [
    {
     "name": "stdout",
     "output_type": "stream",
     "text": [
      "##############Solution of Assignment Problem is ##################\n",
      "\n",
      "\n",
      "status: 1, Optimal\n",
      "objective: 23.0\n",
      "x1: 0.0\n",
      "x2: 1.0\n",
      "x3: 0.0\n",
      "x4: 0.0\n",
      "x5: 0.0\n",
      "y1: 1.0\n",
      "y2: 0.0\n",
      "y3: 0.0\n",
      "y4: 0.0\n",
      "y5: 0.0\n",
      "z1: 0.0\n",
      "z2: 0.0\n",
      "z3: 0.0\n",
      "z4: 0.0\n",
      "z5: 1.0\n",
      "w1: 0.0\n",
      "w2: 0.0\n",
      "w3: 1.0\n",
      "w4: 0.0\n",
      "w5: 0.0\n"
     ]
    }
   ],
   "source": [
    "# Solve the optimization problem\n",
    "status = model.solve()\n",
    "\n",
    "# Get the results\n",
    "print('##############Solution of Assignment Problem is ##################\\n\\n')\n",
    "print(f\"status: {model.status}, {LpStatus[model.status]}\")\n",
    "print(f\"objective: {model.objective.value()}\")\n",
    "\n",
    "for var in x.values():\n",
    "    print(f\"{var.name}: {var.value()}\")\n",
    "\n",
    "for var in y.values():\n",
    "    print(f\"{var.name}: {var.value()}\")\n",
    "\n",
    "for var in z.values():\n",
    "    print(f\"{var.name}: {var.value()}\")\n",
    "\n",
    "for var in w.values():\n",
    "    print(f\"{var.name}: {var.value()}\")"
   ]
  },
  {
   "cell_type": "code",
   "execution_count": null,
   "metadata": {},
   "outputs": [],
   "source": []
  }
 ],
 "metadata": {
  "kernelspec": {
   "display_name": "Python 3",
   "language": "python",
   "name": "python3"
  },
  "language_info": {
   "codemirror_mode": {
    "name": "ipython",
    "version": 3
   },
   "file_extension": ".py",
   "mimetype": "text/x-python",
   "name": "python",
   "nbconvert_exporter": "python",
   "pygments_lexer": "ipython3",
   "version": "3.8.3"
  }
 },
 "nbformat": 4,
 "nbformat_minor": 4
}
