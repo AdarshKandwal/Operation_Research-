{
 "cells": [
  {
   "cell_type": "markdown",
   "metadata": {},
   "source": [
    "# LPP Using Array"
   ]
  },
  {
   "cell_type": "markdown",
   "metadata": {},
   "source": [
    "# Question no.- 1\n",
    "\n",
    "Solve following problems by using array:\n",
    "\n",
    "Maximize  Z = 3x1 + 2x2 + 3x3\n",
    "\n",
    "Subject to,\n",
    "\n",
    " 2x1 + x2 + x3 = 2\n",
    "\n",
    "x1 + 3x2 + x3 =6\n",
    "\n",
    "3x1 + 4x2 + 2x3 =8\n",
    "\n",
    "x1 ,x2 , x3 ≥0  "
   ]
  },
  {
   "cell_type": "code",
   "execution_count": 6,
   "metadata": {},
   "outputs": [],
   "source": [
    "from pulp import *"
   ]
  },
  {
   "cell_type": "code",
   "execution_count": 84,
   "metadata": {},
   "outputs": [],
   "source": [
    "# Define the model\n",
    "model1 = LpProblem(\"LPP\",LpMaximize)"
   ]
  },
  {
   "cell_type": "code",
   "execution_count": 85,
   "metadata": {},
   "outputs": [],
   "source": [
    "# Define the decision variables\n",
    "x = {i: LpVariable(name=f\"x{i}\", lowBound=0) for i in range(1, 4)}"
   ]
  },
  {
   "cell_type": "code",
   "execution_count": 86,
   "metadata": {},
   "outputs": [
    {
     "data": {
      "text/plain": [
       "{1: x1, 2: x2, 3: x3}"
      ]
     },
     "execution_count": 86,
     "metadata": {},
     "output_type": "execute_result"
    }
   ],
   "source": [
    "x"
   ]
  },
  {
   "cell_type": "code",
   "execution_count": 87,
   "metadata": {},
   "outputs": [],
   "source": [
    "# Set the objective\n",
    "model1 += 3 * x[1] + 2 * x[2] + 3 * x[3]"
   ]
  },
  {
   "cell_type": "code",
   "execution_count": 88,
   "metadata": {},
   "outputs": [],
   "source": [
    "# Add constraints\n",
    "model1 += (2 * x[1] + x[2] + x[3] == 2)\n",
    "model1 += (x[1] + 3 * x[2] + x[3] == 6)\n",
    "model1 += (3 * x[1] + 4 * x[2] + 2 * x[3] == 8)"
   ]
  },
  {
   "cell_type": "code",
   "execution_count": 89,
   "metadata": {},
   "outputs": [],
   "source": [
    "# Solve the optimization problem\n",
    "status = model1.solve()"
   ]
  },
  {
   "cell_type": "code",
   "execution_count": 90,
   "metadata": {},
   "outputs": [
    {
     "name": "stdout",
     "output_type": "stream",
     "text": [
      "status: 1, Optimal\n",
      "objective: 4.0\n"
     ]
    }
   ],
   "source": [
    "# Get the results\n",
    "print(f\"status: {model1.status}, {LpStatus[model1.status]}\")\n",
    "print(f\"objective: {round(model1.objective.value(),2)}\")"
   ]
  },
  {
   "cell_type": "code",
   "execution_count": 91,
   "metadata": {},
   "outputs": [
    {
     "name": "stdout",
     "output_type": "stream",
     "text": [
      "x1: -0.0\n",
      "x2: 2.0\n",
      "x3: 0.0\n"
     ]
    }
   ],
   "source": [
    "for var in x.values():\n",
    "    print(f\"{var.name}: {round(var.value(),2)}\")"
   ]
  },
  {
   "cell_type": "markdown",
   "metadata": {},
   "source": [
    "# Question no.- 2\n",
    "\n",
    "Minimize  Z = 3y1 - 4y2 + 3y3\n",
    "\n",
    "Subject to,\n",
    "\n",
    "5y1 + 6y2 + 2y3 ≤ 5\n",
    "\n",
    "-y1 + 3y2 +5 y3 ≥ 8\n",
    "\n",
    "2y1 + 5y2 - 4y3 ≤4\n",
    "\n",
    "y1 ,y2 , y3 ≥0"
   ]
  },
  {
   "cell_type": "code",
   "execution_count": 92,
   "metadata": {},
   "outputs": [],
   "source": [
    "# Define the model\n",
    "model2 = LpProblem(\"LPP\",LpMinimize)"
   ]
  },
  {
   "cell_type": "code",
   "execution_count": 93,
   "metadata": {},
   "outputs": [],
   "source": [
    "# Define the decision variables\n",
    "y = {i: LpVariable(name=f\"y{i}\", lowBound=0) for i in range(1, 4)}"
   ]
  },
  {
   "cell_type": "code",
   "execution_count": 94,
   "metadata": {},
   "outputs": [],
   "source": [
    "# Set the objective\n",
    "model2 += 3 * y[1] - 4 * y[2] + 3 * y[3]"
   ]
  },
  {
   "cell_type": "code",
   "execution_count": 95,
   "metadata": {},
   "outputs": [],
   "source": [
    "# Add constraints\n",
    "model2 += (5 * y[1] + 6 * y[2] + 2 * y[3] <= 5)\n",
    "model2 += (3 * y[2] + 5 * y[3] >= 8 + y[1])\n",
    "model2 += (2 * y[1] + 5 * x[2] - 4 * y[3] <= 4)"
   ]
  },
  {
   "cell_type": "code",
   "execution_count": 96,
   "metadata": {},
   "outputs": [],
   "source": [
    "# Solve the optimization problem\n",
    "status = model2.solve()"
   ]
  },
  {
   "cell_type": "code",
   "execution_count": 97,
   "metadata": {},
   "outputs": [
    {
     "name": "stdout",
     "output_type": "stream",
     "text": [
      "status: 1, Optimal\n",
      "objective: 2.62\n"
     ]
    }
   ],
   "source": [
    "# Get the results\n",
    "print(f\"status: {model2.status}, {LpStatus[model2.status]}\")\n",
    "print(f\"objective: {round(model2.objective.value(),2)}\")"
   ]
  },
  {
   "cell_type": "code",
   "execution_count": 98,
   "metadata": {},
   "outputs": [
    {
     "name": "stdout",
     "output_type": "stream",
     "text": [
      "y1: 0.0\n",
      "y2: 0.38\n",
      "y3: 1.38\n"
     ]
    }
   ],
   "source": [
    "for var in y.values():\n",
    "    print(f\"{var.name}: {round(var.value(),2)}\")"
   ]
  },
  {
   "cell_type": "markdown",
   "metadata": {},
   "source": [
    "# Question no.- 3\n",
    "\n",
    "Maximize  Z = 2z1 + 4z2 + 4z3  -3z4\n",
    "\n",
    "Subject to,\n",
    "\n",
    " z1 + z2 + z3 = 4\n",
    "\n",
    "z1 + 4z2 + z4 =8\n",
    "\n",
    "3z1 + 4z2 + 2z3 =8\n",
    "\n",
    "z1 ,z2 , z3 , z4 ≥0"
   ]
  },
  {
   "cell_type": "code",
   "execution_count": 99,
   "metadata": {},
   "outputs": [],
   "source": [
    "# Define the model\n",
    "model3 = LpProblem(\"LPP\",LpMaximize)"
   ]
  },
  {
   "cell_type": "code",
   "execution_count": 100,
   "metadata": {},
   "outputs": [],
   "source": [
    "# Define the decision variables\n",
    "z = {i: LpVariable(name=f\"z{i}\", lowBound=0) for i in range(1, 5)}"
   ]
  },
  {
   "cell_type": "code",
   "execution_count": 101,
   "metadata": {},
   "outputs": [],
   "source": [
    "# Set the objective\n",
    "model3 += 2 * z[1] + 4 * z[2] + 4 * z[3] - 3 * z[4]"
   ]
  },
  {
   "cell_type": "code",
   "execution_count": 102,
   "metadata": {},
   "outputs": [],
   "source": [
    "# Add constraints\n",
    "model3 += (z[1] + z[2] + z[3] == 4)\n",
    "model3 += (z[1] + 4 * z[2] + z[4] == 8)\n",
    "model3 += (3 * z[1] + 4 * z[2] + 2 * z[3] == 8)"
   ]
  },
  {
   "cell_type": "code",
   "execution_count": 103,
   "metadata": {},
   "outputs": [],
   "source": [
    "# Solve the optimization problem\n",
    "status = model3.solve()"
   ]
  },
  {
   "cell_type": "code",
   "execution_count": 104,
   "metadata": {},
   "outputs": [
    {
     "name": "stdout",
     "output_type": "stream",
     "text": [
      "status: 1, Optimal\n",
      "objective: -8.0\n"
     ]
    }
   ],
   "source": [
    "# Get the results\n",
    "print(f\"status: {model3.status}, {LpStatus[model3.status]}\")\n",
    "print(f\"objective: {round(model3.objective.value(),2)}\")"
   ]
  },
  {
   "cell_type": "code",
   "execution_count": 105,
   "metadata": {},
   "outputs": [
    {
     "name": "stdout",
     "output_type": "stream",
     "text": [
      "z1: 0.0\n",
      "z2: 0.0\n",
      "z3: 4.0\n",
      "z4: 8.0\n"
     ]
    }
   ],
   "source": [
    "for var in z.values():\n",
    "    print(f\"{var.name}: {round(var.value(),2)}\")"
   ]
  },
  {
   "cell_type": "code",
   "execution_count": null,
   "metadata": {},
   "outputs": [],
   "source": []
  }
 ],
 "metadata": {
  "kernelspec": {
   "display_name": "Python 3",
   "language": "python",
   "name": "python3"
  },
  "language_info": {
   "codemirror_mode": {
    "name": "ipython",
    "version": 3
   },
   "file_extension": ".py",
   "mimetype": "text/x-python",
   "name": "python",
   "nbconvert_exporter": "python",
   "pygments_lexer": "ipython3",
   "version": "3.8.3"
  }
 },
 "nbformat": 4,
 "nbformat_minor": 4
}
