{
 "cells": [
  {
   "cell_type": "markdown",
   "metadata": {},
   "source": [
    "# Transportation Problem 1"
   ]
  },
  {
   "cell_type": "code",
   "execution_count": 21,
   "metadata": {},
   "outputs": [],
   "source": [
    "from pulp import *\n",
    "import numpy as np\n",
    "import pandas as pd"
   ]
  },
  {
   "cell_type": "code",
   "execution_count": 22,
   "metadata": {},
   "outputs": [],
   "source": [
    "df=pd.read_csv('C:/Users/GS/Desktop/OR_Lab/TP_11.csv')"
   ]
  },
  {
   "cell_type": "code",
   "execution_count": 23,
   "metadata": {},
   "outputs": [
    {
     "data": {
      "text/html": [
       "<div>\n",
       "<style scoped>\n",
       "    .dataframe tbody tr th:only-of-type {\n",
       "        vertical-align: middle;\n",
       "    }\n",
       "\n",
       "    .dataframe tbody tr th {\n",
       "        vertical-align: top;\n",
       "    }\n",
       "\n",
       "    .dataframe thead th {\n",
       "        text-align: right;\n",
       "    }\n",
       "</style>\n",
       "<table border=\"1\" class=\"dataframe\">\n",
       "  <thead>\n",
       "    <tr style=\"text-align: right;\">\n",
       "      <th></th>\n",
       "      <th>A1</th>\n",
       "      <th>A2</th>\n",
       "      <th>A3</th>\n",
       "      <th>A4</th>\n",
       "      <th>Resource</th>\n",
       "    </tr>\n",
       "  </thead>\n",
       "  <tbody>\n",
       "    <tr>\n",
       "      <th>0</th>\n",
       "      <td>5.0</td>\n",
       "      <td>2.0</td>\n",
       "      <td>4.0</td>\n",
       "      <td>3.0</td>\n",
       "      <td>22</td>\n",
       "    </tr>\n",
       "    <tr>\n",
       "      <th>1</th>\n",
       "      <td>4.0</td>\n",
       "      <td>8.0</td>\n",
       "      <td>1.0</td>\n",
       "      <td>6.0</td>\n",
       "      <td>15</td>\n",
       "    </tr>\n",
       "    <tr>\n",
       "      <th>2</th>\n",
       "      <td>4.0</td>\n",
       "      <td>6.0</td>\n",
       "      <td>7.0</td>\n",
       "      <td>5.0</td>\n",
       "      <td>8</td>\n",
       "    </tr>\n",
       "    <tr>\n",
       "      <th>3</th>\n",
       "      <td>NaN</td>\n",
       "      <td>NaN</td>\n",
       "      <td>NaN</td>\n",
       "      <td>NaN</td>\n",
       "      <td>7</td>\n",
       "    </tr>\n",
       "    <tr>\n",
       "      <th>4</th>\n",
       "      <td>NaN</td>\n",
       "      <td>NaN</td>\n",
       "      <td>NaN</td>\n",
       "      <td>NaN</td>\n",
       "      <td>12</td>\n",
       "    </tr>\n",
       "    <tr>\n",
       "      <th>5</th>\n",
       "      <td>NaN</td>\n",
       "      <td>NaN</td>\n",
       "      <td>NaN</td>\n",
       "      <td>NaN</td>\n",
       "      <td>17</td>\n",
       "    </tr>\n",
       "    <tr>\n",
       "      <th>6</th>\n",
       "      <td>NaN</td>\n",
       "      <td>NaN</td>\n",
       "      <td>NaN</td>\n",
       "      <td>NaN</td>\n",
       "      <td>9</td>\n",
       "    </tr>\n",
       "  </tbody>\n",
       "</table>\n",
       "</div>"
      ],
      "text/plain": [
       "    A1   A2   A3   A4  Resource\n",
       "0  5.0  2.0  4.0  3.0        22\n",
       "1  4.0  8.0  1.0  6.0        15\n",
       "2  4.0  6.0  7.0  5.0         8\n",
       "3  NaN  NaN  NaN  NaN         7\n",
       "4  NaN  NaN  NaN  NaN        12\n",
       "5  NaN  NaN  NaN  NaN        17\n",
       "6  NaN  NaN  NaN  NaN         9"
      ]
     },
     "execution_count": 23,
     "metadata": {},
     "output_type": "execute_result"
    }
   ],
   "source": [
    "df"
   ]
  },
  {
   "cell_type": "code",
   "execution_count": 24,
   "metadata": {},
   "outputs": [],
   "source": [
    "## Define Data\n",
    "\n",
    "nvar=4\n",
    "ncons=3\n",
    "cost=df.iloc[0:3,0:4].to_numpy()          \n",
    "resources=list(df['Resource'].iloc[0:7])"
   ]
  },
  {
   "cell_type": "code",
   "execution_count": 25,
   "metadata": {},
   "outputs": [],
   "source": [
    "# Define the model\n",
    "model1 = LpProblem(\"LPP1\",LpMinimize)\n",
    "\n",
    "# Define the decision variables\n",
    "x = {i: LpVariable(name=f\"x{i}\", lowBound=0, cat='Integer') for i in range(1, nvar+1)}\n",
    "y = {i: LpVariable(name=f\"y{i}\", lowBound=0, cat='Integer') for i in range(1, nvar+1)}\n",
    "z = {i: LpVariable(name=f\"z{i}\", lowBound=0, cat='Integer') for i in range(1, nvar+1)}\n",
    "\n",
    "# Set the objective \n",
    "model1+=lpSum(cost[0,i-1]*x[i] for i in range(1,nvar+1))+lpSum(cost[1,i-1]*y[i] for i in range(1,nvar+1))+lpSum(cost[2,i-1]*z[i] for i in range(1,nvar+1))"
   ]
  },
  {
   "cell_type": "code",
   "execution_count": 26,
   "metadata": {},
   "outputs": [],
   "source": [
    "# Add constraints\n",
    "\n",
    "model1 += lpSum(x[i] for i in range(1,nvar+1))==resources[0]\n",
    "model1 += lpSum(y[i] for i in range(1,nvar+1))==resources[1]\n",
    "model1 += lpSum(z[i] for i in range(1,nvar+1))==resources[2]\n",
    "for j in range(1,nvar+1):\n",
    "  model1 += lpSum(x[j]+y[j]+z[j])==resources[j+2]"
   ]
  },
  {
   "cell_type": "code",
   "execution_count": 27,
   "metadata": {},
   "outputs": [
    {
     "name": "stdout",
     "output_type": "stream",
     "text": [
      "LPP1:\n",
      "MINIMIZE\n",
      "5.0*x1 + 2.0*x2 + 4.0*x3 + 3.0*x4 + 4.0*y1 + 8.0*y2 + 1.0*y3 + 6.0*y4 + 4.0*z1 + 6.0*z2 + 7.0*z3 + 5.0*z4 + 0.0\n",
      "SUBJECT TO\n",
      "_C1: x1 + x2 + x3 + x4 = 22\n",
      "\n",
      "_C2: y1 + y2 + y3 + y4 = 15\n",
      "\n",
      "_C3: z1 + z2 + z3 + z4 = 8\n",
      "\n",
      "_C4: x1 + y1 + z1 = 7\n",
      "\n",
      "_C5: x2 + y2 + z2 = 12\n",
      "\n",
      "_C6: x3 + y3 + z3 = 17\n",
      "\n",
      "_C7: x4 + y4 + z4 = 9\n",
      "\n",
      "VARIABLES\n",
      "0 <= x1 Integer\n",
      "0 <= x2 Integer\n",
      "0 <= x3 Integer\n",
      "0 <= x4 Integer\n",
      "0 <= y1 Integer\n",
      "0 <= y2 Integer\n",
      "0 <= y3 Integer\n",
      "0 <= y4 Integer\n",
      "0 <= z1 Integer\n",
      "0 <= z2 Integer\n",
      "0 <= z3 Integer\n",
      "0 <= z4 Integer\n",
      "\n"
     ]
    }
   ],
   "source": [
    "# Print Model\n",
    "print(model1)"
   ]
  },
  {
   "cell_type": "code",
   "execution_count": 28,
   "metadata": {},
   "outputs": [],
   "source": [
    "# Solve the optimization problem\n",
    "status = model1.solve()"
   ]
  },
  {
   "cell_type": "code",
   "execution_count": 29,
   "metadata": {},
   "outputs": [
    {
     "data": {
      "text/plain": [
       "1"
      ]
     },
     "execution_count": 29,
     "metadata": {},
     "output_type": "execute_result"
    }
   ],
   "source": [
    "status"
   ]
  },
  {
   "cell_type": "code",
   "execution_count": 30,
   "metadata": {},
   "outputs": [
    {
     "name": "stdout",
     "output_type": "stream",
     "text": [
      "##############Solution of LPP is ##################\n",
      "\n",
      "\n",
      "status: 1, Optimal\n",
      "objective: 104.0\n",
      "x1: 0.0\n",
      "x2: 12.0\n",
      "x3: 2.0\n",
      "x4: 8.0\n",
      "y1: 0.0\n",
      "y2: 0.0\n",
      "y3: 15.0\n",
      "y4: 0.0\n",
      "z1: 7.0\n",
      "z2: 0.0\n",
      "z3: 0.0\n",
      "z4: 1.0\n"
     ]
    }
   ],
   "source": [
    "# Get the results\n",
    "print('##############Solution of LPP is ##################\\n\\n')\n",
    "print(f\"status: {model1.status}, {LpStatus[model1.status]}\")\n",
    "print(f\"objective: {round(model1.objective.value(),2)}\")\n",
    "\n",
    "for var in x.values():\n",
    "    print(f\"{var.name}: {var.value()}\")\n",
    "\n",
    "for var in y.values():\n",
    "    print(f\"{var.name}: {var.value()}\")\n",
    "\n",
    "for var in z.values():\n",
    "    print(f\"{var.name}: {var.value()}\")"
   ]
  },
  {
   "cell_type": "markdown",
   "metadata": {},
   "source": [
    "# Transportation Problem 2"
   ]
  },
  {
   "cell_type": "code",
   "execution_count": 31,
   "metadata": {},
   "outputs": [],
   "source": [
    "df=pd.read_csv('C:/Users/GS/Desktop/OR_Lab/TP_22.csv')"
   ]
  },
  {
   "cell_type": "code",
   "execution_count": 32,
   "metadata": {},
   "outputs": [
    {
     "data": {
      "text/html": [
       "<div>\n",
       "<style scoped>\n",
       "    .dataframe tbody tr th:only-of-type {\n",
       "        vertical-align: middle;\n",
       "    }\n",
       "\n",
       "    .dataframe tbody tr th {\n",
       "        vertical-align: top;\n",
       "    }\n",
       "\n",
       "    .dataframe thead th {\n",
       "        text-align: right;\n",
       "    }\n",
       "</style>\n",
       "<table border=\"1\" class=\"dataframe\">\n",
       "  <thead>\n",
       "    <tr style=\"text-align: right;\">\n",
       "      <th></th>\n",
       "      <th>A1</th>\n",
       "      <th>A2</th>\n",
       "      <th>A3</th>\n",
       "      <th>A4</th>\n",
       "      <th>A5</th>\n",
       "      <th>Resource</th>\n",
       "    </tr>\n",
       "  </thead>\n",
       "  <tbody>\n",
       "    <tr>\n",
       "      <th>0</th>\n",
       "      <td>3.0</td>\n",
       "      <td>4.0</td>\n",
       "      <td>6.0</td>\n",
       "      <td>8.0</td>\n",
       "      <td>9.0</td>\n",
       "      <td>20</td>\n",
       "    </tr>\n",
       "    <tr>\n",
       "      <th>1</th>\n",
       "      <td>2.0</td>\n",
       "      <td>10.0</td>\n",
       "      <td>1.0</td>\n",
       "      <td>5.0</td>\n",
       "      <td>8.0</td>\n",
       "      <td>30</td>\n",
       "    </tr>\n",
       "    <tr>\n",
       "      <th>2</th>\n",
       "      <td>7.0</td>\n",
       "      <td>11.0</td>\n",
       "      <td>20.0</td>\n",
       "      <td>40.0</td>\n",
       "      <td>3.0</td>\n",
       "      <td>15</td>\n",
       "    </tr>\n",
       "    <tr>\n",
       "      <th>3</th>\n",
       "      <td>2.0</td>\n",
       "      <td>1.0</td>\n",
       "      <td>9.0</td>\n",
       "      <td>14.0</td>\n",
       "      <td>16.0</td>\n",
       "      <td>13</td>\n",
       "    </tr>\n",
       "    <tr>\n",
       "      <th>4</th>\n",
       "      <td>NaN</td>\n",
       "      <td>NaN</td>\n",
       "      <td>NaN</td>\n",
       "      <td>NaN</td>\n",
       "      <td>NaN</td>\n",
       "      <td>40</td>\n",
       "    </tr>\n",
       "    <tr>\n",
       "      <th>5</th>\n",
       "      <td>NaN</td>\n",
       "      <td>NaN</td>\n",
       "      <td>NaN</td>\n",
       "      <td>NaN</td>\n",
       "      <td>NaN</td>\n",
       "      <td>6</td>\n",
       "    </tr>\n",
       "    <tr>\n",
       "      <th>6</th>\n",
       "      <td>NaN</td>\n",
       "      <td>NaN</td>\n",
       "      <td>NaN</td>\n",
       "      <td>NaN</td>\n",
       "      <td>NaN</td>\n",
       "      <td>8</td>\n",
       "    </tr>\n",
       "    <tr>\n",
       "      <th>7</th>\n",
       "      <td>NaN</td>\n",
       "      <td>NaN</td>\n",
       "      <td>NaN</td>\n",
       "      <td>NaN</td>\n",
       "      <td>NaN</td>\n",
       "      <td>18</td>\n",
       "    </tr>\n",
       "    <tr>\n",
       "      <th>8</th>\n",
       "      <td>NaN</td>\n",
       "      <td>NaN</td>\n",
       "      <td>NaN</td>\n",
       "      <td>NaN</td>\n",
       "      <td>NaN</td>\n",
       "      <td>6</td>\n",
       "    </tr>\n",
       "  </tbody>\n",
       "</table>\n",
       "</div>"
      ],
      "text/plain": [
       "    A1    A2    A3    A4    A5  Resource\n",
       "0  3.0   4.0   6.0   8.0   9.0        20\n",
       "1  2.0  10.0   1.0   5.0   8.0        30\n",
       "2  7.0  11.0  20.0  40.0   3.0        15\n",
       "3  2.0   1.0   9.0  14.0  16.0        13\n",
       "4  NaN   NaN   NaN   NaN   NaN        40\n",
       "5  NaN   NaN   NaN   NaN   NaN         6\n",
       "6  NaN   NaN   NaN   NaN   NaN         8\n",
       "7  NaN   NaN   NaN   NaN   NaN        18\n",
       "8  NaN   NaN   NaN   NaN   NaN         6"
      ]
     },
     "execution_count": 32,
     "metadata": {},
     "output_type": "execute_result"
    }
   ],
   "source": [
    "df"
   ]
  },
  {
   "cell_type": "code",
   "execution_count": 33,
   "metadata": {},
   "outputs": [],
   "source": [
    "## Define Data\n",
    "\n",
    "nvar=5\n",
    "ncons=4\n",
    "cost=df.iloc[0:4,0:6].to_numpy()          \n",
    "resources=list(df['Resource'].iloc[0:9])"
   ]
  },
  {
   "cell_type": "code",
   "execution_count": 34,
   "metadata": {},
   "outputs": [],
   "source": [
    "# Define the model\n",
    "model2 = LpProblem(\"LPP2\",LpMinimize)\n",
    "\n",
    "# Define the decision variables\n",
    "a = {i: LpVariable(name=f\"a{i}\", lowBound=0, cat='Integer') for i in range(1, nvar+1)}\n",
    "b = {i: LpVariable(name=f\"b{i}\", lowBound=0, cat='Integer') for i in range(1, nvar+1)}\n",
    "c = {i: LpVariable(name=f\"c{i}\", lowBound=0, cat='Integer') for i in range(1, nvar+1)}\n",
    "d = {i: LpVariable(name=f\"d{i}\", lowBound=0, cat='Integer') for i in range(1, nvar+1)}\n",
    "\n",
    "# Set the objective \n",
    "model2+=lpSum(cost[0,i-1]*a[i] for i in range(1,nvar+1))+lpSum(cost[1,i-1]*b[i] for i in range(1,nvar+1))+lpSum(cost[2,i-1]*c[i] for i in range(1,nvar+1))+lpSum(cost[3,i-1]*d[i] for i in range(1,nvar+1))"
   ]
  },
  {
   "cell_type": "code",
   "execution_count": 35,
   "metadata": {},
   "outputs": [],
   "source": [
    "# Add constraints\n",
    "model2 += lpSum(a[i] for i in range(1,nvar+1))==resources[0]   \n",
    "model2 += lpSum(b[i] for i in range(1,nvar+1))==resources[1]\n",
    "model2 += lpSum(c[i] for i in range(1,nvar+1))==resources[2]\n",
    "model2 += lpSum(d[i] for i in range(1,nvar+1))==resources[3]\n",
    "for j in range(1,nvar+1):\n",
    "  model2 += lpSum(a[j]+b[j]+c[j]+d[j])==resources[j+3]"
   ]
  },
  {
   "cell_type": "code",
   "execution_count": 36,
   "metadata": {},
   "outputs": [
    {
     "name": "stdout",
     "output_type": "stream",
     "text": [
      "LPP2:\n",
      "MINIMIZE\n",
      "3.0*a1 + 4.0*a2 + 6.0*a3 + 8.0*a4 + 9.0*a5 + 2.0*b1 + 10.0*b2 + 1.0*b3 + 5.0*b4 + 8.0*b5 + 7.0*c1 + 11.0*c2 + 20.0*c3 + 40.0*c4 + 3.0*c5 + 2.0*d1 + 1.0*d2 + 9.0*d3 + 14.0*d4 + 16.0*d5 + 0.0\n",
      "SUBJECT TO\n",
      "_C1: a1 + a2 + a3 + a4 + a5 = 20\n",
      "\n",
      "_C2: b1 + b2 + b3 + b4 + b5 = 30\n",
      "\n",
      "_C3: c1 + c2 + c3 + c4 + c5 = 15\n",
      "\n",
      "_C4: d1 + d2 + d3 + d4 + d5 = 13\n",
      "\n",
      "_C5: a1 + b1 + c1 + d1 = 40\n",
      "\n",
      "_C6: a2 + b2 + c2 + d2 = 6\n",
      "\n",
      "_C7: a3 + b3 + c3 + d3 = 8\n",
      "\n",
      "_C8: a4 + b4 + c4 + d4 = 18\n",
      "\n",
      "_C9: a5 + b5 + c5 + d5 = 6\n",
      "\n",
      "VARIABLES\n",
      "0 <= a1 Integer\n",
      "0 <= a2 Integer\n",
      "0 <= a3 Integer\n",
      "0 <= a4 Integer\n",
      "0 <= a5 Integer\n",
      "0 <= b1 Integer\n",
      "0 <= b2 Integer\n",
      "0 <= b3 Integer\n",
      "0 <= b4 Integer\n",
      "0 <= b5 Integer\n",
      "0 <= c1 Integer\n",
      "0 <= c2 Integer\n",
      "0 <= c3 Integer\n",
      "0 <= c4 Integer\n",
      "0 <= c5 Integer\n",
      "0 <= d1 Integer\n",
      "0 <= d2 Integer\n",
      "0 <= d3 Integer\n",
      "0 <= d4 Integer\n",
      "0 <= d5 Integer\n",
      "\n"
     ]
    }
   ],
   "source": [
    "# Print Model\n",
    "print(model2)"
   ]
  },
  {
   "cell_type": "code",
   "execution_count": 37,
   "metadata": {},
   "outputs": [],
   "source": [
    "# Solve the optimization problem\n",
    "status = model2.solve()"
   ]
  },
  {
   "cell_type": "code",
   "execution_count": 38,
   "metadata": {},
   "outputs": [
    {
     "name": "stdout",
     "output_type": "stream",
     "text": [
      "##############Solution of LPP is ##################\n",
      "\n",
      "\n",
      "status: 1, Optimal\n",
      "objective: 267.0\n",
      "a1: 20.0\n",
      "a2: 0.0\n",
      "a3: 0.0\n",
      "a4: 0.0\n",
      "a5: 0.0\n",
      "b1: 4.0\n",
      "b2: 0.0\n",
      "b3: 8.0\n",
      "b4: 18.0\n",
      "b5: 0.0\n",
      "c1: 9.0\n",
      "c2: 0.0\n",
      "c3: 0.0\n",
      "c4: 0.0\n",
      "c5: 6.0\n",
      "d1: 7.0\n",
      "d2: 6.0\n",
      "d3: 0.0\n",
      "d4: 0.0\n",
      "d5: 0.0\n"
     ]
    }
   ],
   "source": [
    "# Get the results\n",
    "print('##############Solution of LPP is ##################\\n\\n')\n",
    "print(f\"status: {model2.status}, {LpStatus[model2.status]}\")\n",
    "print(f\"objective: {round(model2.objective.value(),2)}\")\n",
    "\n",
    "for var in a.values():\n",
    "    print(f\"{var.name}: {var.value()}\")\n",
    "\n",
    "for var in b.values():\n",
    "    print(f\"{var.name}: {var.value()}\")\n",
    "\n",
    "for var in c.values():\n",
    "    print(f\"{var.name}: {var.value()}\")\n",
    "\n",
    "for var in d.values():\n",
    "    print(f\"{var.name}: {var.value()}\")"
   ]
  },
  {
   "cell_type": "code",
   "execution_count": null,
   "metadata": {},
   "outputs": [],
   "source": []
  }
 ],
 "metadata": {
  "kernelspec": {
   "display_name": "Python 3",
   "language": "python",
   "name": "python3"
  },
  "language_info": {
   "codemirror_mode": {
    "name": "ipython",
    "version": 3
   },
   "file_extension": ".py",
   "mimetype": "text/x-python",
   "name": "python",
   "nbconvert_exporter": "python",
   "pygments_lexer": "ipython3",
   "version": "3.8.3"
  }
 },
 "nbformat": 4,
 "nbformat_minor": 4
}
